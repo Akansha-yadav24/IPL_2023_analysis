{
 "cells": [
  {
   "cell_type": "code",
   "execution_count": 8,
   "metadata": {},
   "outputs": [],
   "source": [
    "import pandas as pd\n",
    "import numpy as np\n",
    "import matplotlib.pyplot as plt\n",
    "import seaborn as sns"
   ]
  },
  {
   "cell_type": "code",
   "execution_count": 9,
   "metadata": {},
   "outputs": [
    {
     "data": {
      "text/html": [
       "<div>\n",
       "<style scoped>\n",
       "    .dataframe tbody tr th:only-of-type {\n",
       "        vertical-align: middle;\n",
       "    }\n",
       "\n",
       "    .dataframe tbody tr th {\n",
       "        vertical-align: top;\n",
       "    }\n",
       "\n",
       "    .dataframe thead th {\n",
       "        text-align: right;\n",
       "    }\n",
       "</style>\n",
       "<table border=\"1\" class=\"dataframe\">\n",
       "  <thead>\n",
       "    <tr style=\"text-align: right;\">\n",
       "      <th></th>\n",
       "      <th>Player Name</th>\n",
       "      <th>Base Price</th>\n",
       "      <th>Type</th>\n",
       "      <th>Cost in Rs. (CR)</th>\n",
       "      <th>Cost in $ (K)</th>\n",
       "      <th>2022 Squad</th>\n",
       "      <th>2023 Squad</th>\n",
       "    </tr>\n",
       "  </thead>\n",
       "  <tbody>\n",
       "    <tr>\n",
       "      <th>0</th>\n",
       "      <td>Shivam Mavi</td>\n",
       "      <td>4000000</td>\n",
       "      <td>BOWLER</td>\n",
       "      <td>6.0</td>\n",
       "      <td>720.0</td>\n",
       "      <td>KKR</td>\n",
       "      <td>GT</td>\n",
       "    </tr>\n",
       "    <tr>\n",
       "      <th>1</th>\n",
       "      <td>Joshua Little</td>\n",
       "      <td>5000000</td>\n",
       "      <td>BOWLER</td>\n",
       "      <td>4.4</td>\n",
       "      <td>528.0</td>\n",
       "      <td>NaN</td>\n",
       "      <td>GT</td>\n",
       "    </tr>\n",
       "    <tr>\n",
       "      <th>2</th>\n",
       "      <td>Kane Williamson</td>\n",
       "      <td>20000000</td>\n",
       "      <td>BATSMAN</td>\n",
       "      <td>2.0</td>\n",
       "      <td>240.0</td>\n",
       "      <td>SRH</td>\n",
       "      <td>GT</td>\n",
       "    </tr>\n",
       "    <tr>\n",
       "      <th>3</th>\n",
       "      <td>K.S. Bharat</td>\n",
       "      <td>2000000</td>\n",
       "      <td>WICKETKEEPER</td>\n",
       "      <td>1.2</td>\n",
       "      <td>144.0</td>\n",
       "      <td>DC</td>\n",
       "      <td>GT</td>\n",
       "    </tr>\n",
       "    <tr>\n",
       "      <th>4</th>\n",
       "      <td>Mohit Sharma</td>\n",
       "      <td>5000000</td>\n",
       "      <td>BOWLER</td>\n",
       "      <td>0.5</td>\n",
       "      <td>60.0</td>\n",
       "      <td>NaN</td>\n",
       "      <td>GT</td>\n",
       "    </tr>\n",
       "  </tbody>\n",
       "</table>\n",
       "</div>"
      ],
      "text/plain": [
       "       Player Name Base Price          Type  Cost in Rs. (CR)  Cost in $ (K)  \\\n",
       "0      Shivam Mavi    4000000        BOWLER               6.0          720.0   \n",
       "1    Joshua Little    5000000        BOWLER               4.4          528.0   \n",
       "2  Kane Williamson   20000000       BATSMAN               2.0          240.0   \n",
       "3      K.S. Bharat    2000000  WICKETKEEPER               1.2          144.0   \n",
       "4     Mohit Sharma    5000000        BOWLER               0.5           60.0   \n",
       "\n",
       "  2022 Squad 2023 Squad  \n",
       "0        KKR         GT  \n",
       "1        NaN         GT  \n",
       "2        SRH         GT  \n",
       "3         DC         GT  \n",
       "4        NaN         GT  "
      ]
     },
     "execution_count": 9,
     "metadata": {},
     "output_type": "execute_result"
    }
   ],
   "source": [
    "df = pd.read_csv('ipl_2023_dataset.csv')\n",
    "df.head()"
   ]
  },
  {
   "cell_type": "code",
   "execution_count": 10,
   "metadata": {},
   "outputs": [
    {
     "data": {
      "text/plain": [
       "(568, 7)"
      ]
     },
     "execution_count": 10,
     "metadata": {},
     "output_type": "execute_result"
    }
   ],
   "source": [
    "df.shape"
   ]
  },
  {
   "cell_type": "code",
   "execution_count": 11,
   "metadata": {},
   "outputs": [],
   "source": [
    "#renaming the columns for easy access\n",
    "df.columns = ['name','base_price','type','cost_rs','cost_usd','2022_s','2023_s']"
   ]
  },
  {
   "cell_type": "code",
   "execution_count": 12,
   "metadata": {},
   "outputs": [
    {
     "data": {
      "text/html": [
       "<div>\n",
       "<style scoped>\n",
       "    .dataframe tbody tr th:only-of-type {\n",
       "        vertical-align: middle;\n",
       "    }\n",
       "\n",
       "    .dataframe tbody tr th {\n",
       "        vertical-align: top;\n",
       "    }\n",
       "\n",
       "    .dataframe thead th {\n",
       "        text-align: right;\n",
       "    }\n",
       "</style>\n",
       "<table border=\"1\" class=\"dataframe\">\n",
       "  <thead>\n",
       "    <tr style=\"text-align: right;\">\n",
       "      <th></th>\n",
       "      <th>name</th>\n",
       "      <th>base_price</th>\n",
       "      <th>type</th>\n",
       "      <th>cost_rs</th>\n",
       "      <th>cost_usd</th>\n",
       "      <th>2022_s</th>\n",
       "      <th>2023_s</th>\n",
       "    </tr>\n",
       "  </thead>\n",
       "  <tbody>\n",
       "    <tr>\n",
       "      <th>0</th>\n",
       "      <td>Shivam Mavi</td>\n",
       "      <td>4000000</td>\n",
       "      <td>BOWLER</td>\n",
       "      <td>6.0</td>\n",
       "      <td>720.0</td>\n",
       "      <td>KKR</td>\n",
       "      <td>GT</td>\n",
       "    </tr>\n",
       "    <tr>\n",
       "      <th>1</th>\n",
       "      <td>Joshua Little</td>\n",
       "      <td>5000000</td>\n",
       "      <td>BOWLER</td>\n",
       "      <td>4.4</td>\n",
       "      <td>528.0</td>\n",
       "      <td>NaN</td>\n",
       "      <td>GT</td>\n",
       "    </tr>\n",
       "    <tr>\n",
       "      <th>2</th>\n",
       "      <td>Kane Williamson</td>\n",
       "      <td>20000000</td>\n",
       "      <td>BATSMAN</td>\n",
       "      <td>2.0</td>\n",
       "      <td>240.0</td>\n",
       "      <td>SRH</td>\n",
       "      <td>GT</td>\n",
       "    </tr>\n",
       "    <tr>\n",
       "      <th>3</th>\n",
       "      <td>K.S. Bharat</td>\n",
       "      <td>2000000</td>\n",
       "      <td>WICKETKEEPER</td>\n",
       "      <td>1.2</td>\n",
       "      <td>144.0</td>\n",
       "      <td>DC</td>\n",
       "      <td>GT</td>\n",
       "    </tr>\n",
       "    <tr>\n",
       "      <th>4</th>\n",
       "      <td>Mohit Sharma</td>\n",
       "      <td>5000000</td>\n",
       "      <td>BOWLER</td>\n",
       "      <td>0.5</td>\n",
       "      <td>60.0</td>\n",
       "      <td>NaN</td>\n",
       "      <td>GT</td>\n",
       "    </tr>\n",
       "  </tbody>\n",
       "</table>\n",
       "</div>"
      ],
      "text/plain": [
       "              name base_price          type  cost_rs  cost_usd 2022_s 2023_s\n",
       "0      Shivam Mavi    4000000        BOWLER      6.0     720.0    KKR     GT\n",
       "1    Joshua Little    5000000        BOWLER      4.4     528.0    NaN     GT\n",
       "2  Kane Williamson   20000000       BATSMAN      2.0     240.0    SRH     GT\n",
       "3      K.S. Bharat    2000000  WICKETKEEPER      1.2     144.0     DC     GT\n",
       "4     Mohit Sharma    5000000        BOWLER      0.5      60.0    NaN     GT"
      ]
     },
     "execution_count": 12,
     "metadata": {},
     "output_type": "execute_result"
    }
   ],
   "source": [
    "df.head()"
   ]
  },
  {
   "cell_type": "code",
   "execution_count": 13,
   "metadata": {},
   "outputs": [
    {
     "name": "stdout",
     "output_type": "stream",
     "text": [
      "<class 'pandas.core.frame.DataFrame'>\n",
      "RangeIndex: 568 entries, 0 to 567\n",
      "Data columns (total 7 columns):\n",
      " #   Column      Non-Null Count  Dtype  \n",
      "---  ------      --------------  -----  \n",
      " 0   name        568 non-null    object \n",
      " 1   base_price  568 non-null    object \n",
      " 2   type        568 non-null    object \n",
      " 3   cost_rs     243 non-null    float64\n",
      " 4   cost_usd    243 non-null    float64\n",
      " 5   2022_s      230 non-null    object \n",
      " 6   2023_s      568 non-null    object \n",
      "dtypes: float64(2), object(5)\n",
      "memory usage: 31.2+ KB\n"
     ]
    }
   ],
   "source": [
    "df.info()"
   ]
  },
  {
   "cell_type": "code",
   "execution_count": 14,
   "metadata": {},
   "outputs": [
    {
     "data": {
      "text/plain": [
       "name            0\n",
       "base_price      0\n",
       "type            0\n",
       "cost_rs       325\n",
       "cost_usd      325\n",
       "2022_s        338\n",
       "2023_s          0\n",
       "dtype: int64"
      ]
     },
     "execution_count": 14,
     "metadata": {},
     "output_type": "execute_result"
    }
   ],
   "source": [
    "df.isna().sum()"
   ]
  },
  {
   "cell_type": "code",
   "execution_count": 15,
   "metadata": {},
   "outputs": [
    {
     "data": {
      "text/html": [
       "<div>\n",
       "<style scoped>\n",
       "    .dataframe tbody tr th:only-of-type {\n",
       "        vertical-align: middle;\n",
       "    }\n",
       "\n",
       "    .dataframe tbody tr th {\n",
       "        vertical-align: top;\n",
       "    }\n",
       "\n",
       "    .dataframe thead th {\n",
       "        text-align: right;\n",
       "    }\n",
       "</style>\n",
       "<table border=\"1\" class=\"dataframe\">\n",
       "  <thead>\n",
       "    <tr style=\"text-align: right;\">\n",
       "      <th></th>\n",
       "      <th>name</th>\n",
       "      <th>base_price</th>\n",
       "      <th>type</th>\n",
       "      <th>cost_rs</th>\n",
       "      <th>cost_usd</th>\n",
       "      <th>2022_s</th>\n",
       "      <th>2023_s</th>\n",
       "    </tr>\n",
       "  </thead>\n",
       "  <tbody>\n",
       "    <tr>\n",
       "      <th>243</th>\n",
       "      <td>Tom Banton</td>\n",
       "      <td>20000000</td>\n",
       "      <td>WICKETKEEPER</td>\n",
       "      <td>NaN</td>\n",
       "      <td>NaN</td>\n",
       "      <td>NaN</td>\n",
       "      <td>Unsold</td>\n",
       "    </tr>\n",
       "    <tr>\n",
       "      <th>244</th>\n",
       "      <td>Kusal Mendis</td>\n",
       "      <td>5000000</td>\n",
       "      <td>WICKETKEEPER</td>\n",
       "      <td>NaN</td>\n",
       "      <td>NaN</td>\n",
       "      <td>NaN</td>\n",
       "      <td>Unsold</td>\n",
       "    </tr>\n",
       "    <tr>\n",
       "      <th>245</th>\n",
       "      <td>Chris Jordan</td>\n",
       "      <td>20000000</td>\n",
       "      <td>BOWLER</td>\n",
       "      <td>NaN</td>\n",
       "      <td>NaN</td>\n",
       "      <td>CSK</td>\n",
       "      <td>Unsold</td>\n",
       "    </tr>\n",
       "    <tr>\n",
       "      <th>246</th>\n",
       "      <td>Adam Milne</td>\n",
       "      <td>20000000</td>\n",
       "      <td>BOWLER</td>\n",
       "      <td>NaN</td>\n",
       "      <td>NaN</td>\n",
       "      <td>CSK</td>\n",
       "      <td>Unsold</td>\n",
       "    </tr>\n",
       "    <tr>\n",
       "      <th>247</th>\n",
       "      <td>Mujeeb Rahman</td>\n",
       "      <td>10000000</td>\n",
       "      <td>BOWLER</td>\n",
       "      <td>NaN</td>\n",
       "      <td>NaN</td>\n",
       "      <td>NaN</td>\n",
       "      <td>Unsold</td>\n",
       "    </tr>\n",
       "    <tr>\n",
       "      <th>...</th>\n",
       "      <td>...</td>\n",
       "      <td>...</td>\n",
       "      <td>...</td>\n",
       "      <td>...</td>\n",
       "      <td>...</td>\n",
       "      <td>...</td>\n",
       "      <td>...</td>\n",
       "    </tr>\n",
       "    <tr>\n",
       "      <th>563</th>\n",
       "      <td>Dhruv Patel</td>\n",
       "      <td>2000000</td>\n",
       "      <td>ALL-ROUNDER</td>\n",
       "      <td>NaN</td>\n",
       "      <td>NaN</td>\n",
       "      <td>NaN</td>\n",
       "      <td>Unsold</td>\n",
       "    </tr>\n",
       "    <tr>\n",
       "      <th>564</th>\n",
       "      <td>Jack Prestwidge</td>\n",
       "      <td>2000000</td>\n",
       "      <td>ALL-ROUNDER</td>\n",
       "      <td>NaN</td>\n",
       "      <td>NaN</td>\n",
       "      <td>NaN</td>\n",
       "      <td>Unsold</td>\n",
       "    </tr>\n",
       "    <tr>\n",
       "      <th>565</th>\n",
       "      <td>Aditya Sarvate</td>\n",
       "      <td>2000000</td>\n",
       "      <td>ALL-ROUNDER</td>\n",
       "      <td>NaN</td>\n",
       "      <td>NaN</td>\n",
       "      <td>NaN</td>\n",
       "      <td>Unsold</td>\n",
       "    </tr>\n",
       "    <tr>\n",
       "      <th>566</th>\n",
       "      <td>Sagar Solanki</td>\n",
       "      <td>2000000</td>\n",
       "      <td>ALL-ROUNDER</td>\n",
       "      <td>NaN</td>\n",
       "      <td>NaN</td>\n",
       "      <td>NaN</td>\n",
       "      <td>Unsold</td>\n",
       "    </tr>\n",
       "    <tr>\n",
       "      <th>567</th>\n",
       "      <td>Prenelan Subrayen</td>\n",
       "      <td>2000000</td>\n",
       "      <td>ALL-ROUNDER</td>\n",
       "      <td>NaN</td>\n",
       "      <td>NaN</td>\n",
       "      <td>NaN</td>\n",
       "      <td>Unsold</td>\n",
       "    </tr>\n",
       "  </tbody>\n",
       "</table>\n",
       "<p>325 rows × 7 columns</p>\n",
       "</div>"
      ],
      "text/plain": [
       "                  name base_price          type  cost_rs  cost_usd 2022_s  \\\n",
       "243         Tom Banton   20000000  WICKETKEEPER      NaN       NaN    NaN   \n",
       "244       Kusal Mendis    5000000  WICKETKEEPER      NaN       NaN    NaN   \n",
       "245       Chris Jordan   20000000        BOWLER      NaN       NaN    CSK   \n",
       "246         Adam Milne   20000000        BOWLER      NaN       NaN    CSK   \n",
       "247      Mujeeb Rahman   10000000        BOWLER      NaN       NaN    NaN   \n",
       "..                 ...        ...           ...      ...       ...    ...   \n",
       "563        Dhruv Patel    2000000   ALL-ROUNDER      NaN       NaN    NaN   \n",
       "564    Jack Prestwidge    2000000   ALL-ROUNDER      NaN       NaN    NaN   \n",
       "565     Aditya Sarvate    2000000   ALL-ROUNDER      NaN       NaN    NaN   \n",
       "566      Sagar Solanki    2000000   ALL-ROUNDER      NaN       NaN    NaN   \n",
       "567  Prenelan Subrayen    2000000   ALL-ROUNDER      NaN       NaN    NaN   \n",
       "\n",
       "     2023_s  \n",
       "243  Unsold  \n",
       "244  Unsold  \n",
       "245  Unsold  \n",
       "246  Unsold  \n",
       "247  Unsold  \n",
       "..      ...  \n",
       "563  Unsold  \n",
       "564  Unsold  \n",
       "565  Unsold  \n",
       "566  Unsold  \n",
       "567  Unsold  \n",
       "\n",
       "[325 rows x 7 columns]"
      ]
     },
     "execution_count": 15,
     "metadata": {},
     "output_type": "execute_result"
    }
   ],
   "source": [
    "df[(df['2023_s']=='Unsold') & (df.cost_rs.isna())]"
   ]
  },
  {
   "cell_type": "code",
   "execution_count": 16,
   "metadata": {},
   "outputs": [
    {
     "data": {
      "text/plain": [
       "name          565\n",
       "base_price     10\n",
       "type            4\n",
       "cost_rs        32\n",
       "cost_usd       32\n",
       "2022_s         10\n",
       "2023_s         11\n",
       "dtype: int64"
      ]
     },
     "execution_count": 16,
     "metadata": {},
     "output_type": "execute_result"
    }
   ],
   "source": [
    "df.nunique()"
   ]
  },
  {
   "cell_type": "code",
   "execution_count": 17,
   "metadata": {},
   "outputs": [
    {
     "data": {
      "text/plain": [
       "0"
      ]
     },
     "execution_count": 17,
     "metadata": {},
     "output_type": "execute_result"
    }
   ],
   "source": [
    "df.duplicated().sum()"
   ]
  },
  {
   "cell_type": "code",
   "execution_count": 18,
   "metadata": {},
   "outputs": [
    {
     "name": "stdout",
     "output_type": "stream",
     "text": [
      "<class 'pandas.core.frame.DataFrame'>\n",
      "RangeIndex: 568 entries, 0 to 567\n",
      "Data columns (total 7 columns):\n",
      " #   Column      Non-Null Count  Dtype  \n",
      "---  ------      --------------  -----  \n",
      " 0   name        568 non-null    object \n",
      " 1   base_price  568 non-null    object \n",
      " 2   type        568 non-null    object \n",
      " 3   cost_rs     243 non-null    float64\n",
      " 4   cost_usd    243 non-null    float64\n",
      " 5   2022_s      230 non-null    object \n",
      " 6   2023_s      568 non-null    object \n",
      "dtypes: float64(2), object(5)\n",
      "memory usage: 31.2+ KB\n"
     ]
    }
   ],
   "source": [
    "df.info()"
   ]
  },
  {
   "cell_type": "markdown",
   "metadata": {},
   "source": [
    "### Univariate Analysis"
   ]
  },
  {
   "cell_type": "code",
   "execution_count": 19,
   "metadata": {},
   "outputs": [
    {
     "name": "stdout",
     "output_type": "stream",
     "text": [
      "base_price\n",
      "2000000     274\n",
      "Retained    163\n",
      "5000000      61\n",
      "10000000     20\n",
      "20000000     19\n",
      "1500000      10\n",
      "7500000       9\n",
      "4000000       7\n",
      "3000000       4\n",
      "15000000      1\n",
      "Name: count, dtype: int64\n",
      "converting \"Retained\" to 0\n",
      "base_price\n",
      "0.20    274\n",
      "0.00    163\n",
      "0.50     61\n",
      "1.00     20\n",
      "2.00     19\n",
      "0.15     10\n",
      "0.75      9\n",
      "0.40      7\n",
      "0.30      4\n",
      "1.50      1\n",
      "Name: count, dtype: int64\n"
     ]
    }
   ],
   "source": [
    "print(df.base_price.value_counts())\n",
    "print('converting \"Retained\" to 0')\n",
    "df.base_price = np.where(df.base_price=='Retained',0,df.base_price).astype('float')\n",
    "#convert base_price to Crores as we have cost also in crores\n",
    "df.base_price = df.base_price/10000000.0\n",
    "print(df.base_price.value_counts())"
   ]
  },
  {
   "cell_type": "code",
   "execution_count": 20,
   "metadata": {},
   "outputs": [
    {
     "data": {
      "image/png": "[encoded data removed]",
      "text/plain": [
       "<Figure size 640x480 with 1 Axes>"
      ]
     },
     "metadata": {},
     "output_type": "display_data"
    }
   ],
   "source": [
    "df.base_price.value_counts().plot(kind='bar')\n",
    "plt.xlabel('Base Price')\n",
    "plt.show()"
   ]
  },
  {
   "cell_type": "code",
   "execution_count": 21,
   "metadata": {},
   "outputs": [
    {
     "data": {
      "text/plain": [
       "type\n",
       "ALL-ROUNDER     213\n",
       "BOWLER          189\n",
       "BATSMAN          91\n",
       "WICKETKEEPER     75\n",
       "Name: count, dtype: int64"
      ]
     },
     "execution_count": 21,
     "metadata": {},
     "output_type": "execute_result"
    }
   ],
   "source": [
    "df.type.value_counts()"
   ]
  },
  {
   "cell_type": "code",
   "execution_count": 22,
   "metadata": {},
   "outputs": [
    {
     "data": {
      "image/png": "[encoded data removed]",
      "text/plain": [
       "<Figure size 640x480 with 1 Axes>"
      ]
     },
     "metadata": {},
     "output_type": "display_data"
    }
   ],
   "source": [
    "plt.hist(df.cost_rs,bins=18,color = \"skyblue\",ec='blue')\n",
    "plt.show()"
   ]
  },
  {
   "cell_type": "code",
   "execution_count": 23,
   "metadata": {},
   "outputs": [
    {
     "name": "stdout",
     "output_type": "stream",
     "text": [
      "INR/USD factor\n",
      "0.008333    80\n",
      "Name: count, dtype: int64\n"
     ]
    }
   ],
   "source": [
    "print(\"INR/USD factor\")\n",
    "print((df.cost_rs/df.cost_usd).value_counts())"
   ]
  },
  {
   "cell_type": "code",
   "execution_count": 24,
   "metadata": {},
   "outputs": [],
   "source": [
    "df.drop('cost_usd',axis=1,inplace=True)"
   ]
  },
  {
   "cell_type": "code",
   "execution_count": 25,
   "metadata": {},
   "outputs": [
    {
     "data": {
      "text/plain": [
       "2022_s\n",
       "MI      28\n",
       "PBKS    24\n",
       "CSK     24\n",
       "RR      24\n",
       "DC      23\n",
       "KKR     22\n",
       "SRH     22\n",
       "GT      22\n",
       "LSG     21\n",
       "RCB     20\n",
       "Name: count, dtype: int64"
      ]
     },
     "execution_count": 25,
     "metadata": {},
     "output_type": "execute_result"
    }
   ],
   "source": [
    "#2022 Squads\n",
    "df['2022_s'].value_counts()"
   ]
  },
  {
   "cell_type": "code",
   "execution_count": 26,
   "metadata": {},
   "outputs": [
    {
     "name": "stdout",
     "output_type": "stream",
     "text": [
      "Year 2023 has 243 and year 2022 had 230 players\n"
     ]
    }
   ],
   "source": [
    "print('Year 2023 has '+ str(df.loc[df['2023_s']!='Unsold','2023_s'].count()) + ' and year 2022 had ' + str(df['2022_s'].count()) + ' players')"
   ]
  },
  {
   "cell_type": "markdown",
   "metadata": {},
   "source": [
    "## Bivariate Analysis"
   ]
  },
  {
   "cell_type": "code",
   "execution_count": 27,
   "metadata": {},
   "outputs": [
    {
     "name": "stdout",
     "output_type": "stream",
     "text": [
      "\n",
      "TOTAL SUM/ PLAYER TYPE\n",
      "              base_price\n",
      "type                    \n",
      "ALL-ROUNDER        58.45\n",
      "BATSMAN            28.50\n",
      "BOWLER             48.35\n",
      "WICKETKEEPER       21.75\n",
      "\n",
      "AVG BASE/ PLAYER TYPE\n",
      "              base_price\n",
      "type                    \n",
      "ALL-ROUNDER     0.274413\n",
      "BATSMAN         0.313187\n",
      "BOWLER          0.255820\n",
      "WICKETKEEPER    0.290000\n",
      "\n",
      "STD DEV./ PLAYER TYPE\n",
      "              base_price\n",
      "type                    \n",
      "ALL-ROUNDER     0.387408\n",
      "BATSMAN         0.481366\n",
      "BOWLER          0.344860\n",
      "WICKETKEEPER    0.411901\n",
      "\n",
      "CALCULATE Coeff. of Variation\n",
      "              base_price\n",
      "type                    \n",
      "ALL-ROUNDER     1.411770\n",
      "BATSMAN         1.536993\n",
      "BOWLER          1.348058\n",
      "WICKETKEEPER    1.420347\n"
     ]
    }
   ],
   "source": [
    "#lets analyse base price by type\n",
    "print('\\nTOTAL SUM/ PLAYER TYPE')\n",
    "print(df.groupby('type').agg({'base_price':'sum'}))\n",
    "print('\\nAVG BASE/ PLAYER TYPE')\n",
    "print(df.groupby('type').agg({'base_price':'mean'}))\n",
    "print('\\nSTD DEV./ PLAYER TYPE')\n",
    "print(df.groupby('type').agg({'base_price':'std'}))\n",
    "print('\\nCALCULATE Coeff. of Variation')\n",
    "print(df.groupby('type').agg({'base_price':'std'})/df.groupby('type').agg({'base_price':'mean'}))"
   ]
  },
  {
   "cell_type": "code",
   "execution_count": 28,
   "metadata": {},
   "outputs": [
    {
     "data": {
      "text/html": [
       "<div>\n",
       "<style scoped>\n",
       "    .dataframe tbody tr th:only-of-type {\n",
       "        vertical-align: middle;\n",
       "    }\n",
       "\n",
       "    .dataframe tbody tr th {\n",
       "        vertical-align: top;\n",
       "    }\n",
       "\n",
       "    .dataframe thead th {\n",
       "        text-align: right;\n",
       "    }\n",
       "</style>\n",
       "<table border=\"1\" class=\"dataframe\">\n",
       "  <thead>\n",
       "    <tr style=\"text-align: right;\">\n",
       "      <th></th>\n",
       "      <th>cost_rs</th>\n",
       "    </tr>\n",
       "    <tr>\n",
       "      <th>type</th>\n",
       "      <th></th>\n",
       "    </tr>\n",
       "  </thead>\n",
       "  <tbody>\n",
       "    <tr>\n",
       "      <th>ALL-ROUNDER</th>\n",
       "      <td>87</td>\n",
       "    </tr>\n",
       "    <tr>\n",
       "      <th>BATSMAN</th>\n",
       "      <td>41</td>\n",
       "    </tr>\n",
       "    <tr>\n",
       "      <th>BOWLER</th>\n",
       "      <td>85</td>\n",
       "    </tr>\n",
       "    <tr>\n",
       "      <th>WICKETKEEPER</th>\n",
       "      <td>30</td>\n",
       "    </tr>\n",
       "  </tbody>\n",
       "</table>\n",
       "</div>"
      ],
      "text/plain": [
       "              cost_rs\n",
       "type                 \n",
       "ALL-ROUNDER        87\n",
       "BATSMAN            41\n",
       "BOWLER             85\n",
       "WICKETKEEPER       30"
      ]
     },
     "execution_count": 28,
     "metadata": {},
     "output_type": "execute_result"
    }
   ],
   "source": [
    "df.groupby('type').agg({'cost_rs':'count'})"
   ]
  },
  {
   "cell_type": "code",
   "execution_count": 29,
   "metadata": {},
   "outputs": [
    {
     "name": "stdout",
     "output_type": "stream",
     "text": [
      "\n",
      "For Year 2023\n",
      "\n",
      "\n",
      "\n",
      "TOTAL SUM COST/ PLAYER TYPE\n",
      "              cost_rs\n",
      "type                 \n",
      "ALL-ROUNDER     70.75\n",
      "BATSMAN         36.50\n",
      "BOWLER          32.15\n",
      "WICKETKEEPER    27.60\n",
      "\n",
      "AVG COST/ PLAYER TYPE\n",
      "               cost_rs\n",
      "type                  \n",
      "ALL-ROUNDER   0.813218\n",
      "BATSMAN       0.890244\n",
      "BOWLER        0.378235\n",
      "WICKETKEEPER  0.920000\n",
      "\n",
      "STD DEV. COST/ PLAYER TYPE\n",
      "               cost_rs\n",
      "type                  \n",
      "ALL-ROUNDER   3.241469\n",
      "BATSMAN       2.520075\n",
      "BOWLER        1.041132\n",
      "WICKETKEEPER  3.023945\n",
      "\n",
      "CALCULATE Coeff. of Variation\n",
      "               cost_rs\n",
      "type                  \n",
      "ALL-ROUNDER   3.985976\n",
      "BATSMAN       2.830769\n",
      "BOWLER        2.752603\n",
      "WICKETKEEPER  3.286896\n"
     ]
    }
   ],
   "source": [
    "#lets analyse cost price by type\n",
    "\n",
    "print('\\nFor Year 2023\\n\\n')\n",
    "print('\\nTOTAL SUM COST/ PLAYER TYPE')\n",
    "print(df.groupby('type').agg({'cost_rs':'sum'}))\n",
    "print('\\nAVG COST/ PLAYER TYPE')\n",
    "print(df.groupby('type').agg({'cost_rs':'mean'}))\n",
    "print('\\nSTD DEV. COST/ PLAYER TYPE')\n",
    "print(df.groupby('type').agg({'cost_rs':'std'}))\n",
    "print('\\nCALCULATE Coeff. of Variation')\n",
    "print(df.groupby('type').agg({'cost_rs':'std'})/df.groupby('type').agg({'cost_rs':'mean'}))"
   ]
  },
  {
   "cell_type": "code",
   "execution_count": 31,
   "metadata": {},
   "outputs": [
    {
     "data": {
      "image/png": "[encoded data removed]",
      "text/plain": [
       "<Figure size 1500x500 with 2 Axes>"
      ]
     },
     "metadata": {},
     "output_type": "display_data"
    }
   ],
   "source": [
    "fig, axes = plt.subplots(1,2, figsize=(15,5))\n",
    "fig.suptitle('Players bought by teams per player types')\n",
    "\n",
    "tempgroup1 = df.groupby(['type','2022_s']).agg(count=('2022_s','count')).reset_index()\n",
    "df1 = pd.pivot_table(tempgroup1,values=['2022_s'],columns='type',index='2022_s')\n",
    "sns.barplot(ax=axes[0],data=tempgroup1, x='2022_s', y='count', hue='type')\n",
    "axes[0].set_title('YEAR 2022')\n",
    "\n",
    "\n",
    "tempgroup2 = df.loc[df['2023_s']!='Unsold'].groupby(['type','2023_s']).agg(count=('2023_s','count')).reset_index()\n",
    "pd.pivot_table(tempgroup2,values=['2023_s'],columns='type',index='2023_s')\n",
    "sns.barplot(ax=axes[1],data=tempgroup2, x='2023_s', y='count', hue='type')\n",
    "axes[1].set_title('YEAR 2023')\n",
    "plt.show()"
   ]
  },
  {
   "cell_type": "code",
   "execution_count": 32,
   "metadata": {},
   "outputs": [
    {
     "data": {
      "image/png": "[encoded data removed]",
      "text/plain": [
       "<Figure size 1500x500 with 2 Axes>"
      ]
     },
     "metadata": {},
     "output_type": "display_data"
    }
   ],
   "source": [
    "#Lets analyze which team spend more on the players this year\n",
    "#setting for subplots\n",
    "fig, axes = plt.subplots(1,2, figsize=(15,5))\n",
    "fig.suptitle('Cost spent by teams per player types')\n",
    "\n",
    "tempgroup1 = df.groupby(['type','2022_s']).agg(cost=('cost_rs','sum')).reset_index()\n",
    "sns.barplot(ax=axes[0],data=tempgroup1, x='2022_s', y='cost', hue='type')\n",
    "axes[0].set_title('YEAR 2022')\n",
    "\n",
    "\n",
    "tempgroup2 = df.loc[df['2023_s']!='Unsold'].groupby(['type','2023_s']).agg(cost=('cost_rs','sum')).reset_index()\n",
    "sns.barplot(ax=axes[1],data=tempgroup2, x='2023_s', y='cost', hue='type')\n",
    "axes[1].set_title('YEAR 2023')\n",
    "plt.show()"
   ]
  },
  {
   "cell_type": "code",
   "execution_count": null,
   "metadata": {},
   "outputs": [],
   "source": []
  }
 ],
 "metadata": {
  "kernelspec": {
   "display_name": "Python 3",
   "language": "python",
   "name": "python3"
  },
  "language_info": {
   "codemirror_mode": {
    "name": "ipython",
    "version": 3
   },
   "file_extension": ".py",
   "mimetype": "text/x-python",
   "name": "python",
   "nbconvert_exporter": "python",
   "pygments_lexer": "ipython3",
   "version": "3.12.7"
  }
 },
 "nbformat": 4,
 "nbformat_minor": 2
}
